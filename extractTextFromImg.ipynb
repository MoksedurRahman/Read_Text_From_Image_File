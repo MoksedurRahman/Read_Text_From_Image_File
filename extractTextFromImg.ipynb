{
 "cells": [
  {
   "cell_type": "markdown",
   "metadata": {},
   "source": [
    "#### Intall pytesseract on windows from\n",
    "#### https://github.com/UB-Mannheim/tesseract/wiki\n",
    "#### pip install pytesseract\n",
    "#### pip install opencv-python"
   ]
  },
  {
   "cell_type": "code",
   "execution_count": 1,
   "metadata": {},
   "outputs": [],
   "source": [
    "import cv2\n",
    "import pytesseract\n",
    "pytesseract.pytesseract.tesseract_cmd = r'C:\\\\Program Files\\\\Tesseract-OCR\\\\tesseract.exe'"
   ]
  },
  {
   "cell_type": "markdown",
   "metadata": {},
   "source": [
    "# Bengali Language"
   ]
  },
  {
   "cell_type": "code",
   "execution_count": 21,
   "metadata": {},
   "outputs": [],
   "source": [
    "#Read Image\n",
    "ben_img = cv2.imread('img/bengali.jpg')"
   ]
  },
  {
   "cell_type": "code",
   "execution_count": 22,
   "metadata": {},
   "outputs": [
    {
     "name": "stdout",
     "output_type": "stream",
     "text": [
      "আমার সোনার বাংলা, আমি তোমায় ভালোবাসি।\n",
      "\n",
      "চিরদিন তোমার আকাশ, তোমার বাতাস, আমার প্রাণে বাজায় বাঁশি।\n",
      "ও মা, ফাগুনে তোর আমের বনে ভ্রাণে পাগল করে,\n",
      "\n",
      "মরি হায়, হায় রে\n",
      "\n",
      "ও মা, অদ্রাণে তোর ভরা ক্ষেতে আমি কী দেখেছি মধুর হাসি।\n",
      "\n",
      "কী শোভা, কী ছায়া গো, কী স্নেহ, কী মায়া গো\n",
      "\n",
      "কী আঁচল বিছায়েছ বটের মুলে, নদীর কুলে কুলে।\n",
      "\n",
      "7, তোর মুখের বাণী আমার কানে লাগে সুধার মতো,\n",
      "\n",
      "রি হায়, হায় রে\n",
      "\n",
      ", তোর বদনখানি মলিন হলে, ও মা, আমি নয়নজলে ভাসি।\n",
      "তোমার এই খেলাঘরে শিশুকাল কাটিল রে,\n",
      "\n",
      "তোমারি ধুলামাটি অঙ্গে মাখি ধন্য জীবন মানি।\n",
      "\n",
      "তুই দিন ফুরালে সন্ধ্যাকালে কী দীপ জ্বালিস ঘরে,\n",
      "\n",
      "মরি হায়, হায় রে\n",
      "\n",
      "তখন খেলাধুলা সকল ফেলে, ও মা, তোমার কোলে ছুটে আসি।\n",
      "ধেনু-চরা তোমার মাঠে, পারে যাবার খেয়াঘাটে,\n",
      "\n",
      "সারাদিন পাখি-ডাকা ছায়ায়-ঢাকা তোমার পল্লীবাটে,\n",
      "\n",
      "তোমার ধানে-ভরা আঙিনাতে জীবনের দিন কাটে,\n",
      "\n",
      "মরি হায়, হায় রে\n",
      "\n",
      "ও মা, আমার যে ভাই তারা সবাই, তোমার রাখাল তোমার চাষি।\n",
      "\n",
      "ও মা, তোর চরণেতে দিলেম এই মাথা পেতে\n",
      "\n",
      "দে গো তোর পায়ের ধুলা, সে যে আমার মাথার মানিক হবে।\n",
      "\n",
      "ও মা, গরিবের ধন যা আছে তাই দিব চরণতলে,\n",
      "\n",
      "মরি হায়, হায় রে\n",
      "আমি পরের ঘরে কিনব না আর, মা, তোর ভূষণ বলে গলার ফাঁসি।\n",
      "\n",
      "\n"
     ]
    }
   ],
   "source": [
    "#Extract Text from Image\n",
    "text = pytesseract.image_to_string(ben_img,lang='ben')\n",
    "print(text)"
   ]
  },
  {
   "cell_type": "markdown",
   "metadata": {},
   "source": [
    "# English Language"
   ]
  },
  {
   "cell_type": "code",
   "execution_count": 19,
   "metadata": {},
   "outputs": [],
   "source": [
    "# Read Image\n",
    "eng_img = cv2.imread('img/english.jpg')"
   ]
  },
  {
   "cell_type": "code",
   "execution_count": 20,
   "metadata": {},
   "outputs": [
    {
     "name": "stdout",
     "output_type": "stream",
     "text": [
      "Early to bed,\n",
      "And early to rise.\n",
      "Makes a man,\n",
      "Healthy, wealthy and wise.\n",
      "\n",
      "\n"
     ]
    }
   ],
   "source": [
    "#Extract Text from Image\n",
    "text = pytesseract.image_to_string(eng_img,lang='eng')\n",
    "print(text)"
   ]
  }
 ],
 "metadata": {
  "interpreter": {
   "hash": "63fd5069d213b44bf678585dea6b12cceca9941eaf7f819626cde1f2670de90d"
  },
  "kernelspec": {
   "display_name": "Python 3.9.7 64-bit",
   "language": "python",
   "name": "python3"
  },
  "language_info": {
   "codemirror_mode": {
    "name": "ipython",
    "version": 3
   },
   "file_extension": ".py",
   "mimetype": "text/x-python",
   "name": "python",
   "nbconvert_exporter": "python",
   "pygments_lexer": "ipython3",
   "version": "3.9.7"
  },
  "orig_nbformat": 4
 },
 "nbformat": 4,
 "nbformat_minor": 2
}
